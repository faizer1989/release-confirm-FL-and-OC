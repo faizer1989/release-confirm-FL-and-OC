{
 "cells": [
  {
   "cell_type": "code",
   "execution_count": 1,
   "metadata": {},
   "outputs": [],
   "source": [
    "import pandas as pd\n",
    "\n",
    "# Load the Excel files into dataframes\n",
    "raw_df1 = pd.read_excel('Product Release 2.1.xlsx', header=0)  # specify the actual sheet name\n",
    "\n",
    "raw_df2 = pd.read_excel('Release 2.1 UCOC.xlsx', header=0)  # specify the actual sheet name\n",
    "\n"
   ]
  },
  {
   "cell_type": "code",
   "execution_count": null,
   "metadata": {},
   "outputs": [],
   "source": [
    "# delete the first row\n",
    "df1 = raw_df1.iloc[1:]\n",
    "# show first 3 rows\n",
    "#take a first column as index\n",
    "df1.set_index('UID', inplace=True)\n",
    "# Sort the DataFrame by its index\n",
    "df1_sorted = df1.sort_index(ascending=True)  # Change to ascending=False for descending order\n",
    "# Display the first 3 rows of the sorted DataFrame\n",
    "df1_sorted.head(3)\n"
   ]
  },
  {
   "cell_type": "code",
   "execution_count": null,
   "metadata": {},
   "outputs": [],
   "source": [
    "df2 = raw_df2\n",
    "df2.set_index('UID', inplace=True)\n",
    "df2_sorted = df2.sort_index(ascending=True)  # Change to ascending=False for descending order\n",
    "# Display the first 3 rows of the sorted DataFrame\n",
    "df2_sorted.head(3)"
   ]
  },
  {
   "cell_type": "code",
   "execution_count": null,
   "metadata": {},
   "outputs": [],
   "source": [
    "# Identify UIDs in df1 but not in df2\n",
    "unmatched_uids_in_df1 = df1_sorted.index.difference(df2_sorted.index)\n",
    "\n",
    "# Identify UIDs in df2 but not in df1\n",
    "unmatched_uids_in_df2 = df2_sorted.index.difference(df1_sorted.index)\n",
    "\n",
    "# Output the UIDs\n",
    "print(\"UIDs present in the devprom but not in the release manifest:\")\n",
    "print(unmatched_uids_in_df1.tolist())\n",
    "\n",
    "print(\"\\nUIDs present in the release manifest but not in the devprom:\")\n",
    "print(unmatched_uids_in_df2.tolist())"
   ]
  }
 ],
 "metadata": {
  "kernelspec": {
   "display_name": "Python 3",
   "language": "python",
   "name": "python3"
  },
  "language_info": {
   "codemirror_mode": {
    "name": "ipython",
    "version": 3
   },
   "file_extension": ".py",
   "mimetype": "text/x-python",
   "name": "python",
   "nbconvert_exporter": "python",
   "pygments_lexer": "ipython3",
   "version": "3.13.0"
  }
 },
 "nbformat": 4,
 "nbformat_minor": 2
}
