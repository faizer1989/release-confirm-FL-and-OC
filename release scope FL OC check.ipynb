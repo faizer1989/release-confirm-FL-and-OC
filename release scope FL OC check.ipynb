{
 "cells": [
  {
   "cell_type": "code",
   "execution_count": 1,
   "metadata": {},
   "outputs": [],
   "source": [
    "import pandas as pd\n"
   ]
  },
  {
   "cell_type": "code",
   "execution_count": null,
   "metadata": {},
   "outputs": [],
   "source": [
    "raw_oc_release = pd.read_excel('Product Release 2.1.xlsx', header=0)  # specify the actual sheet name\n",
    "oc_release = raw_oc_release.iloc[1:]\n",
    "oc_release.head(3)"
   ]
  },
  {
   "cell_type": "code",
   "execution_count": null,
   "metadata": {},
   "outputs": [],
   "source": [
    "# Split the 'second_column' by new line\n",
    "oc_release['[SA_only] Link to Use Case'] = oc_release['[SA_only] Link to Use Case'].str.split('\\n')\n",
    "pd.set_option('display.max_colwidth', None)\n",
    "oc_release.head(3)"
   ]
  },
  {
   "cell_type": "code",
   "execution_count": null,
   "metadata": {},
   "outputs": [],
   "source": [
    "for index, row in oc_release.iterrows():\n",
    "    print(row['[SA_only] Link to Use Case'])"
   ]
  },
  {
   "cell_type": "code",
   "execution_count": null,
   "metadata": {},
   "outputs": [],
   "source": [
    "# Use explode to duplicate the first column and expand the second column\n",
    "df_exploded = oc_release.explode('[SA_only] Link to Use Case')\n",
    "\n",
    "df_exploded.head(5)"
   ]
  },
  {
   "cell_type": "code",
   "execution_count": null,
   "metadata": {},
   "outputs": [],
   "source": [
    "# Replace text in the column using regular expression to extract the pattern U-xxxxx\n",
    "df_exploded['[SA_only] Link to Use Case'] = df_exploded['[SA_only] Link to Use Case'].str.extract(r'(U-\\d+)')\n",
    "oc_release_exploded = df_exploded\n",
    "oc_release_exploded.head(5)\n"
   ]
  },
  {
   "cell_type": "code",
   "execution_count": null,
   "metadata": {},
   "outputs": [],
   "source": [
    "# Load the Excel files into dataframes\n",
    "raw_fl_release = pd.read_excel('FL Release 2.1.1.xlsx', header=0)  # specify the actual sheet name\n",
    "raw_fl_release.head(3)"
   ]
  },
  {
   "cell_type": "code",
   "execution_count": null,
   "metadata": {},
   "outputs": [],
   "source": [
    "print(oc_release_exploded[\"[SA_only] Link to Use Case\"])"
   ]
  },
  {
   "cell_type": "code",
   "execution_count": null,
   "metadata": {},
   "outputs": [],
   "source": [
    "print(raw_fl_release[\"UID\"])"
   ]
  },
  {
   "cell_type": "code",
   "execution_count": null,
   "metadata": {},
   "outputs": [],
   "source": [
    "column_dtype = oc_release_exploded[\"[SA_only] Link to Use Case\"].dtype\n",
    "print(column_dtype)"
   ]
  },
  {
   "cell_type": "code",
   "execution_count": null,
   "metadata": {},
   "outputs": [],
   "source": [
    "column_dtype = raw_fl_release[\"UID\"].dtype\n",
    "print(column_dtype)"
   ]
  },
  {
   "cell_type": "code",
   "execution_count": null,
   "metadata": {},
   "outputs": [],
   "source": [
    "# Convert Series to sets and then use the difference operation\n",
    "unmatched_flucs_in_raw_fl_release = set(oc_release_exploded[\"[SA_only] Link to Use Case\"]).difference(set(raw_fl_release[\"UID\"]))\n",
    "\n",
    "# Output the UIDs\n",
    "print(\"UIDs present in the devprom but not in the release manifest:\")\n",
    "print(list(unmatched_flucs_in_raw_fl_release))"
   ]
  },
  {
   "cell_type": "code",
   "execution_count": null,
   "metadata": {},
   "outputs": [],
   "source": [
    "# Convert raw_fl_release[\"UID\"] to a set for faster lookup\n",
    "release_uids_set = set(raw_fl_release[\"UID\"])\n",
    "\n",
    "# Boolean index for unmatched UIDs in oc_release_exploded\n",
    "unmatched_mask = ~oc_release_exploded[\"[SA_only] Link to Use Case\"].isin(release_uids_set)\n",
    "\n",
    "# Get the rows with unmatched UIDs\n",
    "unmatched_rows = oc_release_exploded[unmatched_mask]\n",
    "\n",
    "# Display the unmatched rows\n",
    "print(\"Rows in oc_release_exploded with UIDs not present in raw_fl_release:\")\n",
    "unmatched_rows"
   ]
  },
  {
   "cell_type": "code",
   "execution_count": null,
   "metadata": {},
   "outputs": [],
   "source": [
    "# move [SA_only] Link to Use Case as the first column in unmatched_rows \n",
    "#unmatched_rows = unmatched_rows[[\"[SA_only] Link to Use Case\"] + list(unmatched_rows.columns[:-1])]\n",
    "unmatched_rows"
   ]
  },
  {
   "cell_type": "code",
   "execution_count": null,
   "metadata": {},
   "outputs": [],
   "source": [
    "unmatched_rows[\"[SA_only] Link to Use Case\"]"
   ]
  },
  {
   "cell_type": "code",
   "execution_count": null,
   "metadata": {},
   "outputs": [],
   "source": [
    "unique_uids = unmatched_rows[\"UID\"].unique()\n",
    "\n",
    "# Convert the array of unique UIDs into a comma-separated string\n",
    "unique_uids_str = ', '.join(unique_uids)\n",
    "\n",
    "print(\"Unique UIDs in unmatched_rows:\")\n",
    "print(\"# of UCs:\", len(unique_uids), unique_uids_str)"
   ]
  },
  {
   "cell_type": "code",
   "execution_count": 54,
   "metadata": {},
   "outputs": [],
   "source": [
    "#export to excel\n",
    "unmatched_rows.to_excel(\"unmatched fl ucs from oc release in fl release.xlsx\")"
   ]
  }
 ],
 "metadata": {
  "kernelspec": {
   "display_name": "Python 3",
   "language": "python",
   "name": "python3"
  },
  "language_info": {
   "codemirror_mode": {
    "name": "ipython",
    "version": 3
   },
   "file_extension": ".py",
   "mimetype": "text/x-python",
   "name": "python",
   "nbconvert_exporter": "python",
   "pygments_lexer": "ipython3",
   "version": "3.13.0"
  }
 },
 "nbformat": 4,
 "nbformat_minor": 2
}
