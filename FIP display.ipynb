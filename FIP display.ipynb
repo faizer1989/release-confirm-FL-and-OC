{
 "cells": [
  {
   "cell_type": "code",
   "execution_count": 46,
   "metadata": {},
   "outputs": [],
   "source": [
    "import pandas as pd\n"
   ]
  },
  {
   "cell_type": "code",
   "execution_count": null,
   "metadata": {},
   "outputs": [],
   "source": [
    "raw_oc_release = pd.read_excel('oc release 2.1 and 2.2.xlsx')  # specify the actual sheet name\n",
    "raw_oc_release.head(3)"
   ]
  },
  {
   "cell_type": "code",
   "execution_count": null,
   "metadata": {},
   "outputs": [],
   "source": [
    "# Split the 'second_column' by new line\n",
    "raw_oc_release['[SA_only] Link to Use Case'] = raw_oc_release['[SA_only] Link to Use Case'].str.split('\\n')\n",
    "pd.set_option('display.max_colwidth', None)\n",
    "raw_oc_release.head(3)"
   ]
  },
  {
   "cell_type": "code",
   "execution_count": null,
   "metadata": {},
   "outputs": [],
   "source": [
    "# drop where [SA_only] Link to Use Case is empty\n",
    "raw_oc_release.dropna(subset=['[SA_only] Link to Use Case'], inplace=True)\n",
    "raw_oc_release.head(3)\n"
   ]
  },
  {
   "cell_type": "code",
   "execution_count": null,
   "metadata": {},
   "outputs": [],
   "source": [
    "for index, row in raw_oc_release.iterrows():\n",
    "    print(row['[SA_only] Link to Use Case'])"
   ]
  },
  {
   "cell_type": "code",
   "execution_count": null,
   "metadata": {},
   "outputs": [],
   "source": [
    "# Use explode to duplicate the first column and expand the second column\n",
    "oc_release = raw_oc_release.explode('[SA_only] Link to Use Case')\n",
    "\n",
    "oc_release.head(5)"
   ]
  },
  {
   "cell_type": "code",
   "execution_count": null,
   "metadata": {},
   "outputs": [],
   "source": [
    "# Replace text in the column using regular expression to extract the pattern U-xxxxx\n",
    "oc_release['[SA_only] Link to Use Case'] = oc_release['[SA_only] Link to Use Case'].str.extract(r'(U-\\d+)')\n",
    "oc_release_exploded = oc_release\n",
    "oc_release_exploded.head(5)\n"
   ]
  },
  {
   "cell_type": "code",
   "execution_count": null,
   "metadata": {},
   "outputs": [],
   "source": [
    "# Load the Excel files into dataframes\n",
    "raw_fl = pd.read_excel('FL Release 2.1.1.xlsx', header=0)  # specify the actual sheet name\n",
    "raw_fl"
   ]
  },
  {
   "cell_type": "code",
   "execution_count": null,
   "metadata": {},
   "outputs": [],
   "source": [
    "raw_fl['[SA_only] Link to Use Case'] = raw_fl['UID']\n",
    "raw_fl"
   ]
  },
  {
   "cell_type": "code",
   "execution_count": null,
   "metadata": {},
   "outputs": [],
   "source": [
    "# Ensure there is a common column to merge on, here assuming both have a 'UID' or similar\n",
    "# Adjust the names if needed according to your DataFrame structures\n",
    "raw_fl['[SA_only] Link to Use Case'] = raw_fl['UID']  # or another column that matches\n",
    "\n",
    "# Merge data from raw_fl to oc_release based on the 'UID'\n",
    "oc_release = oc_release.merge(raw_fl[['[SA_only] Link to Use Case', 'FIP']], on='[SA_only] Link to Use Case', how='left')\n",
    "\n",
    "# Move the 'FIP' column to the 4th position\n",
    "columns = list(oc_release.columns)\n",
    "# Assuming index is zero-based, the 4th position is index 3\n",
    "columns.insert(3, columns.pop(columns.index('FIP')))\n",
    "oc_release = oc_release[columns]\n",
    "\n",
    "# Display the modified DataFrame\n",
    "oc_release.head()"
   ]
  },
  {
   "cell_type": "code",
   "execution_count": 56,
   "metadata": {},
   "outputs": [],
   "source": [
    "oc_release['FIP'] = oc_release['FIP'].str.split('\\n')"
   ]
  },
  {
   "cell_type": "code",
   "execution_count": null,
   "metadata": {},
   "outputs": [],
   "source": [
    "oc_release"
   ]
  },
  {
   "cell_type": "code",
   "execution_count": null,
   "metadata": {},
   "outputs": [],
   "source": [
    "# Function to check if any of the criteria match\n",
    "def check_fip_criteria(fip_list):\n",
    "    if not isinstance(fip_list, list):\n",
    "        return False\n",
    "    # Convert all list elements to lowercase for consistent comparison\n",
    "    fip_list_lower = [fip_item.lower() for fip_item in fip_list]\n",
    "    # Define the criteria to look for\n",
    "    criteria = [\n",
    "        \"release 2.1 - yes\", \"release 2.1 - modified\", \n",
    "        \"release 2.1 appendix - yes\", \"release 2.1 appendix - modified\"\n",
    "    ]\n",
    "    # Check if any of the criteria are present in the list\n",
    "    return any(criterion in fip_list_lower for criterion in criteria)\n",
    "\n",
    "# Apply the check to each row in the FIP column\n",
    "oc_release['Is FIP 2.1'] = oc_release['FIP'].apply(lambda x: 'Yes' if check_fip_criteria(x) else '')\n",
    "\n",
    "# Insert the new column next to the FIP column\n",
    "fip_index = oc_release.columns.get_loc('FIP')\n",
    "oc_release.insert(fip_index + 1, 'Is FIP 2.1', oc_release.pop('Is FIP 2.1'))\n",
    "\n",
    "# Display the DataFrame to verify the new column\n",
    "oc_release.head()"
   ]
  },
  {
   "cell_type": "code",
   "execution_count": null,
   "metadata": {},
   "outputs": [],
   "source": [
    "# Assume oc_release is your existing DataFrame\n",
    "\n",
    "# Function to determine if all values are \"Yes\" for a column in a grouped DataFrame\n",
    "def all_yes(series):\n",
    "    return 'Yes' if all(value == 'Yes' for value in series) else 'No'\n",
    "\n",
    "# Group by 'UID' and apply the function to 'Is FIP 2.1'\n",
    "is_oc_release_2_1 = oc_release.groupby('UID')['Is FIP 2.1'].apply(all_yes)\n",
    "\n",
    "# Map the results back to your original DataFrame\n",
    "oc_release['Is OC Release 2.1'] = oc_release['UID'].map(is_oc_release_2_1)\n",
    "\n",
    "# Display the DataFrame to verify the new column\n",
    "oc_release.head()"
   ]
  },
  {
   "cell_type": "code",
   "execution_count": 64,
   "metadata": {},
   "outputs": [],
   "source": [
    "#export to excel\n",
    "oc_release.to_excel(\"withfip.xlsx\")"
   ]
  },
  {
   "cell_type": "code",
   "execution_count": null,
   "metadata": {},
   "outputs": [],
   "source": [
    "# Filter the DataFrame to find UIDs where 'Is OC Release 2.1' is 'Yes'\n",
    "unique_uids_all_yes = oc_release[oc_release['Is OC Release 2.1'] == 'Yes']['UID'].unique()\n",
    "\n",
    "# Convert the array of unique UIDs into a comma-separated string\n",
    "unique_uids_all_yes_str = ', '.join(unique_uids_all_yes)\n",
    "\n",
    "print(\"Candidates for Product Release 2.1:\")\n",
    "print(\"# of UCs:\", len(unique_uids_all_yes), unique_uids_all_yes_str)"
   ]
  }
 ],
 "metadata": {
  "kernelspec": {
   "display_name": "Python 3",
   "language": "python",
   "name": "python3"
  },
  "language_info": {
   "codemirror_mode": {
    "name": "ipython",
    "version": 3
   },
   "file_extension": ".py",
   "mimetype": "text/x-python",
   "name": "python",
   "nbconvert_exporter": "python",
   "pygments_lexer": "ipython3",
   "version": "3.13.0"
  }
 },
 "nbformat": 4,
 "nbformat_minor": 2
}
